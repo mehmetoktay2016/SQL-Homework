{
 "cells": [
  {
   "cell_type": "markdown",
   "metadata": {
    "papermill": {
     "duration": 0.004026,
     "end_time": "2020-11-17T09:34:46.018800",
     "exception": false,
     "start_time": "2020-11-17T09:34:46.014774",
     "status": "completed"
    },
    "tags": []
   },
   "source": [
    "***Merhabalar , yazdıgım kodlar SQL dilinde oldugundan dolayı burada çalışmamaktadır. Bu yazım sadece odevin depolanması maksadıyla paylaşılmıştır.***"
   ]
  },
  {
   "cell_type": "code",
   "execution_count": 1,
   "metadata": {
    "execution": {
     "iopub.execute_input": "2020-11-17T09:34:46.037948Z",
     "iopub.status.busy": "2020-11-17T09:34:46.037022Z",
     "iopub.status.idle": "2020-11-17T09:34:46.046951Z",
     "shell.execute_reply": "2020-11-17T09:34:46.046231Z"
    },
    "papermill": {
     "duration": 0.02503,
     "end_time": "2020-11-17T09:34:46.047079",
     "exception": false,
     "start_time": "2020-11-17T09:34:46.022049",
     "status": "completed"
    },
    "tags": []
   },
   "outputs": [
    {
     "ename": "SyntaxError",
     "evalue": "invalid syntax (<ipython-input-1-8c9a507e4562>, line 1)",
     "output_type": "error",
     "traceback": [
      "\u001b[0;36m  File \u001b[0;32m\"<ipython-input-1-8c9a507e4562>\"\u001b[0;36m, line \u001b[0;32m1\u001b[0m\n\u001b[0;31m    -- TABLODAN CİNSİYETİ ERKEK OLANLARI CEKİNİZ ?\u001b[0m\n\u001b[0m                        ^\u001b[0m\n\u001b[0;31mSyntaxError\u001b[0m\u001b[0;31m:\u001b[0m invalid syntax\n"
     ]
    }
   ],
   "source": [
    "-- TABLODAN CİNSİYETİ ERKEK OLANLARI CEKİNİZ ? \n",
    "SELECT NAMESURNAME\n",
    "  FROM [test].[dbo].[CUSTOMERS]\n",
    "WHERE GENDER = 'E' \n",
    "\n",
    "-- TABLODAN CİNSİYETİ ERKEK OLAN VE MEMLEKETİ İSTANBUL OLANLARI CEKİNİZ. \"N\" HARF HATALARINI GİDERİR.\n",
    "\n",
    "SELECT *\n",
    "  FROM [test].[dbo].[CUSTOMERS]\n",
    "WHERE GENDER = 'E' AND CITY LIKE N'İSTANBUL%'\n",
    "\n",
    "-- TABLODAN DOGUM TARİHİ 1990 VE 1995 YILLARI ARASINDA OLAN KISILERI CEKİNİZ.\n",
    "--1.YOL\n",
    "SELECT * \n",
    "FROM CUSTOMERS\n",
    "WHERE BIRTHDATE >='1990-01-01' AND BIRTHDATE < '1996-01-01'\n",
    "\n",
    "-- 2.YOL\n",
    "SELECT * \n",
    "FROM CUSTOMERS\n",
    "WHERE YEAR(BIRTHDATE) >= 1990 AND YEAR(BIRTHDATE) < 1996\n",
    "ORDER BY BIRTHDATE DESC\n",
    "\n",
    "-- 3.YOL\n",
    "SELECT * \n",
    "FROM CUSTOMERS\n",
    "WHERE CONVERT(DATE , BIRTHDATE) > '1990-01-01' AND CONVERT(DATE , BIRTHDATE) < '1996-01-01'\n",
    "\n",
    "\n",
    "-- SEHRİ İSTANBUL VE İZMİR OLAN KİSİLERİN DOGUM TARİHİNE GORE SIRALAYIN\n",
    "SELECT * \n",
    "FROM CUSTOMERS\n",
    "WHERE CITY LIKE N'%İSTANBUL' OR CITY LIKE N'%İZMİR%'\n",
    "ORDER BY BIRTHDATE ASC"
   ]
  }
 ],
 "metadata": {
  "kernelspec": {
   "display_name": "Python 3",
   "language": "python",
   "name": "python3"
  },
  "language_info": {
   "codemirror_mode": {
    "name": "ipython",
    "version": 3
   },
   "file_extension": ".py",
   "mimetype": "text/x-python",
   "name": "python",
   "nbconvert_exporter": "python",
   "pygments_lexer": "ipython3",
   "version": "3.7.6"
  },
  "papermill": {
   "duration": 5.802233,
   "end_time": "2020-11-17T09:34:46.160878",
   "environment_variables": {},
   "exception": null,
   "input_path": "__notebook__.ipynb",
   "output_path": "__notebook__.ipynb",
   "parameters": {},
   "start_time": "2020-11-17T09:34:40.358645",
   "version": "2.1.0"
  }
 },
 "nbformat": 4,
 "nbformat_minor": 4
}
